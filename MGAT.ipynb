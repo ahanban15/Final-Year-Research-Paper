{
  "nbformat": 4,
  "nbformat_minor": 0,
  "metadata": {
    "colab": {
      "provenance": []
    },
    "kernelspec": {
      "name": "python3",
      "display_name": "Python 3"
    },
    "language_info": {
      "name": "python"
    }
  },
  "cells": [
    {
      "cell_type": "code",
      "execution_count": 3,
      "metadata": {
        "colab": {
          "base_uri": "https://localhost:8080/"
        },
        "id": "kTFCFy1DfoY7",
        "outputId": "564af66b-f76d-4dce-e150-9491fc37b2d0"
      },
      "outputs": [
        {
          "output_type": "stream",
          "name": "stderr",
          "text": [
            "Downloading https://github.com/kimiyoung/planetoid/raw/master/data/ind.cora.x\n",
            "Downloading https://github.com/kimiyoung/planetoid/raw/master/data/ind.cora.tx\n",
            "Downloading https://github.com/kimiyoung/planetoid/raw/master/data/ind.cora.allx\n",
            "Downloading https://github.com/kimiyoung/planetoid/raw/master/data/ind.cora.y\n",
            "Downloading https://github.com/kimiyoung/planetoid/raw/master/data/ind.cora.ty\n",
            "Downloading https://github.com/kimiyoung/planetoid/raw/master/data/ind.cora.ally\n",
            "Downloading https://github.com/kimiyoung/planetoid/raw/master/data/ind.cora.graph\n",
            "Downloading https://github.com/kimiyoung/planetoid/raw/master/data/ind.cora.test.index\n",
            "Processing...\n",
            "Done!\n"
          ]
        },
        {
          "output_type": "stream",
          "name": "stdout",
          "text": [
            "Epoch 0, Loss: 1.9830167293548584\n",
            "Epoch 10, Loss: 1.7444876432418823\n",
            "Epoch 20, Loss: 1.531516671180725\n",
            "Epoch 30, Loss: 1.3431135416030884\n",
            "Epoch 40, Loss: 1.2566040754318237\n",
            "Epoch 50, Loss: 1.1759110689163208\n",
            "Epoch 60, Loss: 0.9890807867050171\n",
            "Epoch 70, Loss: 0.9573647379875183\n",
            "Epoch 80, Loss: 0.8478729128837585\n",
            "Epoch 90, Loss: 0.9188687205314636\n",
            "Epoch 100, Loss: 0.7829055190086365\n",
            "Epoch 110, Loss: 0.734627902507782\n",
            "Epoch 120, Loss: 0.7490527033805847\n",
            "Epoch 130, Loss: 0.6629327535629272\n",
            "Epoch 140, Loss: 0.5397090315818787\n",
            "Epoch 150, Loss: 0.6694390177726746\n",
            "Epoch 160, Loss: 0.6100138425827026\n",
            "Epoch 170, Loss: 0.5155973434448242\n",
            "Epoch 180, Loss: 0.5343835353851318\n",
            "Epoch 190, Loss: 0.4904060959815979\n",
            "Training complete.\n"
          ]
        }
      ],
      "source": [
        "import torch\n",
        "import torch.nn as nn\n",
        "import torch.nn.functional as F\n",
        "from torch_geometric.nn import GATConv\n",
        "\n",
        "class MGATLayer(nn.Module):\n",
        "    def __init__(self, in_channels, out_channels, num_heads=1, dropout=0.6):\n",
        "        super(MGATLayer, self).__init__()\n",
        "        self.attention_layers = nn.ModuleList()\n",
        "        self.num_heads = num_heads\n",
        "\n",
        "        for _ in range(num_heads):\n",
        "            self.attention_layers.append(GATConv(in_channels, out_channels, heads=1, dropout=dropout))\n",
        "\n",
        "    def forward(self, x, edge_index):\n",
        "        out = torch.stack([attention(x, edge_index) for attention in self.attention_layers], dim=1)\n",
        "        out = torch.mean(out, dim=1)  # Aggregate outputs from all heads (average pooling)\n",
        "        return out\n",
        "\n",
        "class MGATModel(nn.Module):\n",
        "    def __init__(self, in_channels, hidden_channels, out_channels, num_heads=2):\n",
        "        super(MGATModel, self).__init__()\n",
        "        self.gat1 = MGATLayer(in_channels, hidden_channels, num_heads=num_heads)\n",
        "        self.gat2 = MGATLayer(hidden_channels, out_channels, num_heads=num_heads)\n",
        "\n",
        "    def forward(self, data):\n",
        "        x, edge_index = data.x, data.edge_index\n",
        "        x = F.dropout(x, p=0.6, training=self.training)\n",
        "        x = F.elu(self.gat1(x, edge_index))\n",
        "        x = F.dropout(x, p=0.6, training=self.training)\n",
        "        x = self.gat2(x, edge_index)\n",
        "        return F.log_softmax(x, dim=1)\n",
        "\n",
        "# Sample usage with PyTorch Geometric data\n",
        "import torch_geometric.datasets as datasets\n",
        "from torch_geometric.data import DataLoader\n",
        "\n",
        "# Load a graph dataset (e.g., Cora, Citeseer)\n",
        "dataset = datasets.Planetoid(root='/tmp/Cora', name='Cora')\n",
        "device = torch.device('cuda' if torch.cuda.is_available() else 'cpu')\n",
        "model = MGATModel(dataset.num_node_features, hidden_channels=8, out_channels=dataset.num_classes).to(device)\n",
        "data = dataset[0].to(device)\n",
        "\n",
        "optimizer = torch.optim.Adam(model.parameters(), lr=0.005, weight_decay=5e-4)\n",
        "model.train()\n",
        "for epoch in range(200):\n",
        "    optimizer.zero_grad()\n",
        "    out = model(data)\n",
        "    loss = F.nll_loss(out[data.train_mask], data.y[data.train_mask])\n",
        "    loss.backward()\n",
        "    optimizer.step()\n",
        "\n",
        "    if epoch % 10 == 0:\n",
        "        print(f'Epoch {epoch}, Loss: {loss.item()}')\n",
        "\n",
        "print(\"Training complete.\")\n"
      ]
    }
  ]
}